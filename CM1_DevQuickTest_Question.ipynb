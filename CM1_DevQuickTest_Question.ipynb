{
  "nbformat": 4,
  "nbformat_minor": 0,
  "metadata": {
    "colab": {
      "provenance": [],
      "include_colab_link": true
    },
    "kernelspec": {
      "name": "python3",
      "display_name": "Python 3"
    },
    "language_info": {
      "name": "python"
    }
  },
  "cells": [
    {
      "cell_type": "markdown",
      "metadata": {
        "id": "view-in-github",
        "colab_type": "text"
      },
      "source": [
        "<a href=\"https://colab.research.google.com/github/mishra-raman/cm1_python_test/blob/main/CM1_DevQuickTest_Question.ipynb\" target=\"_parent\"><img src=\"https://colab.research.google.com/assets/colab-badge.svg\" alt=\"Open In Colab\"/></a>"
      ]
    },
    {
      "cell_type": "markdown",
      "source": [
        "### Test Instructions\n",
        "The purpose of this simple coding test is to allow us to get a grasp on the quality of your code and to identify the role that would suit you best within our team. You don't NEED to be able to answer all of the items, but the ones that you do answer need to be correct. Feel free to use Google or any other tools that you prefer to complete these tasks.\n",
        "\n",
        "Install any needed third-party libraries below this block. Please install the minimum amount of libraries you need."
      ],
      "metadata": {
        "id": "rHaZgOQJ_cH2"
      }
    },
    {
      "cell_type": "markdown",
      "source": [
        "!pip install whatever_you_need"
      ],
      "metadata": {
        "id": "DS8Y5bTE_cNX"
      }
    },
    {
      "cell_type": "code",
      "source": [
        "!pip install openai\n",
        "!pip show openai\n",
        "!pip install discord.py\n",
        "!pip show discord.py\n",
        "!pip install langchain\n",
        "!pip show langchain"
      ],
      "metadata": {
        "id": "GeZ98TNS_ZDK",
        "colab": {
          "base_uri": "https://localhost:8080/"
        },
        "outputId": "c70ff957-05d6-4cab-b8af-8daf68d0c653"
      },
      "execution_count": 44,
      "outputs": [
        {
          "output_type": "stream",
          "name": "stdout",
          "text": [
            "Requirement already satisfied: openai in /usr/local/lib/python3.10/dist-packages (0.27.8)\n",
            "Requirement already satisfied: requests>=2.20 in /usr/local/lib/python3.10/dist-packages (from openai) (2.27.1)\n",
            "Requirement already satisfied: tqdm in /usr/local/lib/python3.10/dist-packages (from openai) (4.65.0)\n",
            "Requirement already satisfied: aiohttp in /usr/local/lib/python3.10/dist-packages (from openai) (3.8.4)\n",
            "Requirement already satisfied: urllib3<1.27,>=1.21.1 in /usr/local/lib/python3.10/dist-packages (from requests>=2.20->openai) (1.26.16)\n",
            "Requirement already satisfied: certifi>=2017.4.17 in /usr/local/lib/python3.10/dist-packages (from requests>=2.20->openai) (2023.5.7)\n",
            "Requirement already satisfied: charset-normalizer~=2.0.0 in /usr/local/lib/python3.10/dist-packages (from requests>=2.20->openai) (2.0.12)\n",
            "Requirement already satisfied: idna<4,>=2.5 in /usr/local/lib/python3.10/dist-packages (from requests>=2.20->openai) (3.4)\n",
            "Requirement already satisfied: attrs>=17.3.0 in /usr/local/lib/python3.10/dist-packages (from aiohttp->openai) (23.1.0)\n",
            "Requirement already satisfied: multidict<7.0,>=4.5 in /usr/local/lib/python3.10/dist-packages (from aiohttp->openai) (6.0.4)\n",
            "Requirement already satisfied: async-timeout<5.0,>=4.0.0a3 in /usr/local/lib/python3.10/dist-packages (from aiohttp->openai) (4.0.2)\n",
            "Requirement already satisfied: yarl<2.0,>=1.0 in /usr/local/lib/python3.10/dist-packages (from aiohttp->openai) (1.9.2)\n",
            "Requirement already satisfied: frozenlist>=1.1.1 in /usr/local/lib/python3.10/dist-packages (from aiohttp->openai) (1.3.3)\n",
            "Requirement already satisfied: aiosignal>=1.1.2 in /usr/local/lib/python3.10/dist-packages (from aiohttp->openai) (1.3.1)\n",
            "Name: openai\n",
            "Version: 0.27.8\n",
            "Summary: Python client library for the OpenAI API\n",
            "Home-page: https://github.com/openai/openai-python\n",
            "Author: OpenAI\n",
            "Author-email: support@openai.com\n",
            "License: \n",
            "Location: /usr/local/lib/python3.10/dist-packages\n",
            "Requires: aiohttp, requests, tqdm\n",
            "Required-by: \n",
            "Requirement already satisfied: discord.py in /usr/local/lib/python3.10/dist-packages (2.3.1)\n",
            "Requirement already satisfied: aiohttp<4,>=3.7.4 in /usr/local/lib/python3.10/dist-packages (from discord.py) (3.8.4)\n",
            "Requirement already satisfied: attrs>=17.3.0 in /usr/local/lib/python3.10/dist-packages (from aiohttp<4,>=3.7.4->discord.py) (23.1.0)\n",
            "Requirement already satisfied: charset-normalizer<4.0,>=2.0 in /usr/local/lib/python3.10/dist-packages (from aiohttp<4,>=3.7.4->discord.py) (2.0.12)\n",
            "Requirement already satisfied: multidict<7.0,>=4.5 in /usr/local/lib/python3.10/dist-packages (from aiohttp<4,>=3.7.4->discord.py) (6.0.4)\n",
            "Requirement already satisfied: async-timeout<5.0,>=4.0.0a3 in /usr/local/lib/python3.10/dist-packages (from aiohttp<4,>=3.7.4->discord.py) (4.0.2)\n",
            "Requirement already satisfied: yarl<2.0,>=1.0 in /usr/local/lib/python3.10/dist-packages (from aiohttp<4,>=3.7.4->discord.py) (1.9.2)\n",
            "Requirement already satisfied: frozenlist>=1.1.1 in /usr/local/lib/python3.10/dist-packages (from aiohttp<4,>=3.7.4->discord.py) (1.3.3)\n",
            "Requirement already satisfied: aiosignal>=1.1.2 in /usr/local/lib/python3.10/dist-packages (from aiohttp<4,>=3.7.4->discord.py) (1.3.1)\n",
            "Requirement already satisfied: idna>=2.0 in /usr/local/lib/python3.10/dist-packages (from yarl<2.0,>=1.0->aiohttp<4,>=3.7.4->discord.py) (3.4)\n",
            "Name: discord.py\n",
            "Version: 2.3.1\n",
            "Summary: A Python wrapper for the Discord API\n",
            "Home-page: https://github.com/Rapptz/discord.py\n",
            "Author: Rapptz\n",
            "Author-email: \n",
            "License: MIT\n",
            "Location: /usr/local/lib/python3.10/dist-packages\n",
            "Requires: aiohttp\n",
            "Required-by: discord\n",
            "Found existing installation: langchain 0.0.233\n",
            "Uninstalling langchain-0.0.233:\n",
            "  Would remove:\n",
            "    /usr/local/bin/langchain-server\n",
            "    /usr/local/lib/python3.10/dist-packages/langchain-0.0.233.dist-info/*\n",
            "    /usr/local/lib/python3.10/dist-packages/langchain/*\n",
            "Proceed (Y/n)? Y\n",
            "  Successfully uninstalled langchain-0.0.233\n",
            "Collecting langchain\n",
            "  Using cached langchain-0.0.233-py3-none-any.whl (1.3 MB)\n",
            "Requirement already satisfied: PyYAML>=5.4.1 in /usr/local/lib/python3.10/dist-packages (from langchain) (6.0)\n",
            "Requirement already satisfied: SQLAlchemy<3,>=1.4 in /usr/local/lib/python3.10/dist-packages (from langchain) (2.0.18)\n",
            "Requirement already satisfied: aiohttp<4.0.0,>=3.8.3 in /usr/local/lib/python3.10/dist-packages (from langchain) (3.8.4)\n",
            "Requirement already satisfied: async-timeout<5.0.0,>=4.0.0 in /usr/local/lib/python3.10/dist-packages (from langchain) (4.0.2)\n",
            "Requirement already satisfied: dataclasses-json<0.6.0,>=0.5.7 in /usr/local/lib/python3.10/dist-packages (from langchain) (0.5.9)\n",
            "Requirement already satisfied: langsmith<0.0.6,>=0.0.5 in /usr/local/lib/python3.10/dist-packages (from langchain) (0.0.5)\n",
            "Requirement already satisfied: numexpr<3.0.0,>=2.8.4 in /usr/local/lib/python3.10/dist-packages (from langchain) (2.8.4)\n",
            "Requirement already satisfied: numpy<2,>=1 in /usr/local/lib/python3.10/dist-packages (from langchain) (1.22.4)\n",
            "Requirement already satisfied: openapi-schema-pydantic<2.0,>=1.2 in /usr/local/lib/python3.10/dist-packages (from langchain) (1.2.4)\n",
            "Requirement already satisfied: pydantic<2,>=1 in /usr/local/lib/python3.10/dist-packages (from langchain) (1.10.11)\n",
            "Requirement already satisfied: requests<3,>=2 in /usr/local/lib/python3.10/dist-packages (from langchain) (2.27.1)\n",
            "Requirement already satisfied: tenacity<9.0.0,>=8.1.0 in /usr/local/lib/python3.10/dist-packages (from langchain) (8.2.2)\n",
            "Requirement already satisfied: attrs>=17.3.0 in /usr/local/lib/python3.10/dist-packages (from aiohttp<4.0.0,>=3.8.3->langchain) (23.1.0)\n",
            "Requirement already satisfied: charset-normalizer<4.0,>=2.0 in /usr/local/lib/python3.10/dist-packages (from aiohttp<4.0.0,>=3.8.3->langchain) (2.0.12)\n",
            "Requirement already satisfied: multidict<7.0,>=4.5 in /usr/local/lib/python3.10/dist-packages (from aiohttp<4.0.0,>=3.8.3->langchain) (6.0.4)\n",
            "Requirement already satisfied: yarl<2.0,>=1.0 in /usr/local/lib/python3.10/dist-packages (from aiohttp<4.0.0,>=3.8.3->langchain) (1.9.2)\n",
            "Requirement already satisfied: frozenlist>=1.1.1 in /usr/local/lib/python3.10/dist-packages (from aiohttp<4.0.0,>=3.8.3->langchain) (1.3.3)\n",
            "Requirement already satisfied: aiosignal>=1.1.2 in /usr/local/lib/python3.10/dist-packages (from aiohttp<4.0.0,>=3.8.3->langchain) (1.3.1)\n",
            "Requirement already satisfied: marshmallow<4.0.0,>=3.3.0 in /usr/local/lib/python3.10/dist-packages (from dataclasses-json<0.6.0,>=0.5.7->langchain) (3.19.0)\n",
            "Requirement already satisfied: marshmallow-enum<2.0.0,>=1.5.1 in /usr/local/lib/python3.10/dist-packages (from dataclasses-json<0.6.0,>=0.5.7->langchain) (1.5.1)\n",
            "Requirement already satisfied: typing-inspect>=0.4.0 in /usr/local/lib/python3.10/dist-packages (from dataclasses-json<0.6.0,>=0.5.7->langchain) (0.9.0)\n",
            "Requirement already satisfied: typing-extensions>=4.2.0 in /usr/local/lib/python3.10/dist-packages (from pydantic<2,>=1->langchain) (4.7.1)\n",
            "Requirement already satisfied: urllib3<1.27,>=1.21.1 in /usr/local/lib/python3.10/dist-packages (from requests<3,>=2->langchain) (1.26.16)\n",
            "Requirement already satisfied: certifi>=2017.4.17 in /usr/local/lib/python3.10/dist-packages (from requests<3,>=2->langchain) (2023.5.7)\n",
            "Requirement already satisfied: idna<4,>=2.5 in /usr/local/lib/python3.10/dist-packages (from requests<3,>=2->langchain) (3.4)\n",
            "Requirement already satisfied: greenlet!=0.4.17 in /usr/local/lib/python3.10/dist-packages (from SQLAlchemy<3,>=1.4->langchain) (2.0.2)\n",
            "Requirement already satisfied: packaging>=17.0 in /usr/local/lib/python3.10/dist-packages (from marshmallow<4.0.0,>=3.3.0->dataclasses-json<0.6.0,>=0.5.7->langchain) (23.1)\n",
            "Requirement already satisfied: mypy-extensions>=0.3.0 in /usr/local/lib/python3.10/dist-packages (from typing-inspect>=0.4.0->dataclasses-json<0.6.0,>=0.5.7->langchain) (1.0.0)\n",
            "Installing collected packages: langchain\n",
            "Successfully installed langchain-0.0.233\n",
            "Name: langchain\n",
            "Version: 0.0.233\n",
            "Summary: Building applications with LLMs through composability\n",
            "Home-page: https://www.github.com/hwchase17/langchain\n",
            "Author: \n",
            "Author-email: \n",
            "License: MIT\n",
            "Location: /usr/local/lib/python3.10/dist-packages\n",
            "Requires: aiohttp, async-timeout, dataclasses-json, langsmith, numexpr, numpy, openapi-schema-pydantic, pydantic, PyYAML, requests, SQLAlchemy, tenacity\n",
            "Required-by: \n"
          ]
        }
      ]
    },
    {
      "cell_type": "markdown",
      "source": [
        "### Task 1 (Data manipulation / Visualization)\n",
        "Download the file: https://drive.google.com/file/d/1R_M3xI3b_BqAN_xWLqJDneg273X_sok5/view?usp=sharing\n",
        "\n",
        "In `message_data.csv` there's two columns, one corresponds to the unique id of someone sending a message and the other one to when they sent it.\n",
        "\n",
        "Generate an interactive chart that shows the percentage of daily messages sent by new users (those who sent their first message ever on a given day)."
      ],
      "metadata": {
        "id": "tT8GriLI_qcl"
      }
    },
    {
      "cell_type": "code",
      "source": [
        "import pandas as pd\n",
        "import matplotlib.pyplot as plt\n",
        "import plotly.express as px\n",
        "df = pd.read_csv('/content/message_data.csv')\n",
        "df['message_time'] = pd.to_datetime(df['message_time'])\n",
        "daily_counts = df.groupby([df['message_time'].dt.date, 'author_id']).size().reset_index(name='count')\n",
        "first_messages = df.groupby('author_id')['message_time'].min().reset_index()\n",
        "new_users = df.merge(first_messages, on=['author_id', 'message_time'])\n",
        "new_users_daily_counts = new_users.groupby(new_users['message_time'].dt.date)['message_id'].count()\n",
        "total_daily_counts = df['message_time'].dt.date.value_counts()\n",
        "percentage_new_users = (new_users_daily_counts / total_daily_counts) * 100\n",
        "plt.figure(figsize=(10, 6))\n",
        "plt.plot(percentage_new_users.index, percentage_new_users.values)\n",
        "plt.title('Percentage of Daily Messages Sent by New Users')\n",
        "plt.xlabel('Date')\n",
        "plt.ylabel('Percentage')\n",
        "plt.xticks(rotation=45)\n",
        "plt.grid(True)\n",
        "plt.show()\n"
      ],
      "metadata": {
        "id": "gMe_jfXp_2zu",
        "colab": {
          "base_uri": "https://localhost:8080/",
          "height": 617
        },
        "outputId": "0cd31d64-b696-4a6a-d9fc-1c470b5e1e2e"
      },
      "execution_count": 6,
      "outputs": [
        {
          "output_type": "display_data",
          "data": {
            "text/plain": [
              "<Figure size 1000x600 with 1 Axes>"
            ],
            "image/png": "[encoded data removed]"
          },
          "metadata": {}
        }
      ]
    },
    {
      "cell_type": "markdown",
      "source": [
        "### Task 2 (Django)\n",
        "**To take the django portion of this test go to: https://github.com/llu13701/cm1_python_test and follow the instructions.**"
      ],
      "metadata": {
        "id": "DDe4I-E-_1M-"
      }
    },
    {
      "cell_type": "code",
      "source": [],
      "metadata": {
        "id": "hF_IbJXY_rV5"
      },
      "execution_count": null,
      "outputs": []
    },
    {
      "cell_type": "markdown",
      "source": [
        "### Task 3 (LangChain)\n",
        "Write a simple Chain that does the following:\n",
        "- Uses openai's gpt-3.5-turbo model.\n",
        "- Remembers the last 2 message exchanges, as well as the system message.\n",
        "- Greets people and tells a joke about their name."
      ],
      "metadata": {
        "id": "o6MoFpH7_tn2"
      }
    },
    {
      "cell_type": "code",
      "source": [
        "import openai\n",
        "\n",
        "class OpenAIAPI:\n",
        "    def __init__(self, api_key):\n",
        "        openai.api_key = api_key\n",
        "\n",
        "    def generate_response(self, input_text):\n",
        "        model_prompt = f\"GPT-3.5-turbo is great at conversations!\\n\\nUser: {input_text}\\nAI:\"\n",
        "        response = openai.Completion.create(\n",
        "            engine=\"text-davinci-003\",\n",
        "            prompt=model_prompt,\n",
        "            max_tokens=50,\n",
        "            temperature=0.7,\n",
        "            n=1,\n",
        "            stop=None\n",
        "        )\n",
        "        return response.choices[0].text.strip()\n",
        "\n",
        "class ConversationHandler:\n",
        "    def __init__(self):\n",
        "        self.messages = []\n",
        "\n",
        "    def handle_conversation(self, message):\n",
        "        user_message = message['content']\n",
        "        system_message = message.get('system')\n",
        "\n",
        "        # Remember the last two exchanges\n",
        "        self.messages.append({'role': 'user', 'content': user_message})\n",
        "        self.messages = self.messages[-2:]\n",
        "\n",
        "        # Generate a response\n",
        "        response = api.generate_response(user_message)\n",
        "\n",
        "        # Extract the user's name\n",
        "        user_name = next((msg.get('name') for msg in self.messages if msg['role'] == 'user'), None)\n",
        "\n",
        "        # Greet and tell a joke about the user's name\n",
        "        if user_name:\n",
        "            response += f\" Hello, {user_name}! Here's a joke for you: Why don't scientists trust atoms? Because they make up everything!\"\n",
        "\n",
        "        return {'message': {'role': 'assistant', 'content': response}}\n",
        "\n",
        "# Set up OpenAI API credentials\n",
        "api_key = 'YOUR_OPENAI_API_KEY'\n",
        "api = OpenAIAPI(api_key)\n",
        "\n",
        "# Example usage\n",
        "handler = ConversationHandler()\n",
        "\n",
        "conversation = {\n",
        "    'messages': [\n",
        "        {'role': 'system', 'content': 'You are a bot'},\n",
        "        {'role': 'user', 'content': 'Hello, my name is John'}\n",
        "    ]\n",
        "}\n",
        "\n",
        "response = handler.handle_conversation(conversation['messages'][-1])\n",
        "print(response['message']['content'])\n"
      ],
      "metadata": {
        "id": "flO7_-oA_xXv",
        "colab": {
          "base_uri": "https://localhost:8080/",
          "height": 0
        },
        "outputId": "37a4f23d-f93e-4325-f8db-e0b778388464"
      },
      "execution_count": 22,
      "outputs": [
        {
          "output_type": "stream",
          "name": "stdout",
          "text": [
            "Hi John, nice to meet you. How can I help you?\n"
          ]
        }
      ]
    },
    {
      "cell_type": "markdown",
      "source": [
        "### Task 4 (Discord API)\n",
        "\n",
        "Write a very simple discord bot that says \"Hello {user_name}!\" to every new incoming message in a discord server.\n"
      ],
      "metadata": {
        "id": "HMAawESH_32U"
      }
    },
    {
      "cell_type": "code",
      "source": [
        "import discord\n",
        "\n",
        "intents = discord.Intents.default()\n",
        "intents.messages = True\n",
        "\n",
        "class MyClient(discord.Client):\n",
        "    async def on_ready(self):\n",
        "        print(f'Bot is ready! Logged in as {self.user}')\n",
        "\n",
        "    async def on_message(self, message):\n",
        "        if message.author == self.user:\n",
        "            return\n",
        "\n",
        "        # Send a response with a greeting\n",
        "        response = f\"Hello {message.author.name}!\"\n",
        "        await message.channel.send(response)\n",
        "\n",
        "# Create a new instance of the client\n",
        "client = MyClient(intents=intents)\n",
        "\n",
        "# Replace 'YOUR_DISCORD_BOT_TOKEN' with your actual bot token\n",
        "client.start('YOUR_DISCORD_BOT_TOKEN')"
      ],
      "metadata": {
        "id": "D_xPdNDk_4OY",
        "colab": {
          "base_uri": "https://localhost:8080/"
        },
        "outputId": "c14dd913-3ece-4cfd-91c7-48c0fd89a9ec"
      },
      "execution_count": 62,
      "outputs": [
        {
          "output_type": "execute_result",
          "data": {
            "text/plain": [
              "<coroutine object Client.start at 0x7b0c8f97b4c0>"
            ]
          },
          "metadata": {},
          "execution_count": 62
        }
      ]
    },
    {
      "cell_type": "markdown",
      "source": [
        "### Task 5\n",
        "Use LangChain to write a discord bot that will:\n",
        "- Greet a user, making a joke about their name and then proceed to answer any question they have, whenever a user sends a message.\n",
        "- Use async with langchain chain calls.\n"
      ],
      "metadata": {
        "id": "shZgOMw7_4fS"
      }
    },
    {
      "cell_type": "code",
      "source": [
        "import discord\n",
        "from discord.ext import commands\n",
        "import langchain\n",
        "\n",
        "intents = discord.Intents.default()\n",
        "intents.typing = False\n",
        "intents.presences = False\n",
        "\n",
        "bot = commands.Bot(command_prefix=\"!\", intents=intents)\n",
        "\n",
        "@bot.event\n",
        "async def on_ready():\n",
        "    print(f\"We have logged in as {bot.user}\")\n",
        "\n",
        "@bot.event\n",
        "async def on_message(message):\n",
        "    if message.author == bot.user:\n",
        "        return\n",
        "\n",
        "    joke = f\"Why did the {message.author.name} cross the road? To tell you that\"\n",
        "    await message.channel.send(joke)\n",
        "    await bot.process_commands(message)\n",
        "\n",
        "@bot.command()\n",
        "async def chain(ctx, *, question):\n",
        "    answer = await langchain.chain(question)\n",
        "    await ctx.send(answer)\n",
        "\n",
        "# Replace 'YOUR_DISCORD_BOT_TOKEN' with your actual bot token\n",
        "bot.start(\"YOUR_DISCORD_BOT_TOKEN\")\n"
      ],
      "metadata": {
        "id": "6Wxh-dWx_4oy",
        "colab": {
          "base_uri": "https://localhost:8080/"
        },
        "outputId": "8449ef4b-497e-4eb2-f619-912f33191e27"
      },
      "execution_count": 60,
      "outputs": [
        {
          "output_type": "execute_result",
          "data": {
            "text/plain": [
              "<coroutine object Client.start at 0x7b0c8f97b300>"
            ]
          },
          "metadata": {},
          "execution_count": 60
        }
      ]
    },
    {
      "cell_type": "code",
      "source": [],
      "metadata": {
        "id": "gxofoCWyCw6t"
      },
      "execution_count": null,
      "outputs": []
    }
  ]
}